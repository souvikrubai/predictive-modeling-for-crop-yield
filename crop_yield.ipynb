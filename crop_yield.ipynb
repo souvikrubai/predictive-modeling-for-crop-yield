{
  "nbformat": 4,
  "nbformat_minor": 0,
  "metadata": {
    "colab": {
      "name": "crop yield.ipynb",
      "provenance": [],
      "mount_file_id": "1YQC4sZNESBMWBIMEKLIsGTOkO117w6iL",
      "authorship_tag": "ABX9TyNl5WfY4pfZs7NPC/wdWoet",
      "include_colab_link": true
    },
    "kernelspec": {
      "name": "python3",
      "display_name": "Python 3"
    },
    "language_info": {
      "name": "python"
    },
    "widgets": {
      "application/vnd.jupyter.widget-state+json": {
        "36e07e4b9e8846d8be0986ba0abe59b6": {
          "model_module": "@jupyter-widgets/controls",
          "model_name": "VBoxModel",
          "model_module_version": "1.5.0",
          "state": {
            "_view_name": "VBoxView",
            "_dom_classes": [
              "widget-interact"
            ],
            "_model_name": "VBoxModel",
            "_view_module": "@jupyter-widgets/controls",
            "_model_module_version": "1.5.0",
            "_view_count": null,
            "_view_module_version": "1.5.0",
            "box_style": "",
            "layout": "IPY_MODEL_fbdc7a0ef7cc40a1be9420c1907ee2fb",
            "_model_module": "@jupyter-widgets/controls",
            "children": [
              "IPY_MODEL_3b4ae191818d496f82fe98b340bd5164",
              "IPY_MODEL_37380b8ed7bf47708968df921be75168"
            ]
          }
        },
        "fbdc7a0ef7cc40a1be9420c1907ee2fb": {
          "model_module": "@jupyter-widgets/base",
          "model_name": "LayoutModel",
          "model_module_version": "1.2.0",
          "state": {
            "_view_name": "LayoutView",
            "grid_template_rows": null,
            "right": null,
            "justify_content": null,
            "_view_module": "@jupyter-widgets/base",
            "overflow": null,
            "_model_module_version": "1.2.0",
            "_view_count": null,
            "flex_flow": null,
            "width": null,
            "min_width": null,
            "border": null,
            "align_items": null,
            "bottom": null,
            "_model_module": "@jupyter-widgets/base",
            "top": null,
            "grid_column": null,
            "overflow_y": null,
            "overflow_x": null,
            "grid_auto_flow": null,
            "grid_area": null,
            "grid_template_columns": null,
            "flex": null,
            "_model_name": "LayoutModel",
            "justify_items": null,
            "grid_row": null,
            "max_height": null,
            "align_content": null,
            "visibility": null,
            "align_self": null,
            "height": null,
            "min_height": null,
            "padding": null,
            "grid_auto_rows": null,
            "grid_gap": null,
            "max_width": null,
            "order": null,
            "_view_module_version": "1.2.0",
            "grid_template_areas": null,
            "object_position": null,
            "object_fit": null,
            "grid_auto_columns": null,
            "margin": null,
            "display": null,
            "left": null
          }
        },
        "3b4ae191818d496f82fe98b340bd5164": {
          "model_module": "@jupyter-widgets/controls",
          "model_name": "DropdownModel",
          "model_module_version": "1.5.0",
          "state": {
            "_options_labels": [
              "muskmelon",
              "orange",
              "apple",
              "mango",
              "maize",
              "mungbean",
              "chickpea",
              "coconut",
              "blackgram",
              "watermelon",
              "papaya",
              "rice",
              "coffee",
              "jute",
              "pomegranate",
              "pigeonpeas",
              "lentil",
              "mothbeans",
              "cotton",
              "banana",
              "kidneybeans",
              "grapes"
            ],
            "_view_name": "DropdownView",
            "style": "IPY_MODEL_b7b176dedd654c628cfc34b56bfa7140",
            "_dom_classes": [],
            "description": "crops",
            "_model_name": "DropdownModel",
            "index": 0,
            "_view_module": "@jupyter-widgets/controls",
            "_model_module_version": "1.5.0",
            "_view_count": null,
            "disabled": false,
            "_view_module_version": "1.5.0",
            "description_tooltip": null,
            "_model_module": "@jupyter-widgets/controls",
            "layout": "IPY_MODEL_8b0294ff64cf4bf7b62494f1f2b248dc"
          }
        },
        "37380b8ed7bf47708968df921be75168": {
          "model_module": "@jupyter-widgets/output",
          "model_name": "OutputModel",
          "model_module_version": "1.0.0",
          "state": {
            "_view_name": "OutputView",
            "msg_id": "",
            "_dom_classes": [],
            "_model_name": "OutputModel",
            "outputs": [
              {
                "output_type": "stream",
                "name": "stdout",
                "text": [
                  "-------------------------------------------------\n",
                  "Statistics for Nitrogen :\n",
                  "Minimum Nitrogen Required : 80\n",
                  "Average Nitrogen Required : 100.32\n",
                  "Maximum Nitrogen Required : 120\n",
                  "-------------------------------------------------\n",
                  "Statistics for Phosphorous :\n",
                  "Minimum Phosphorous Required : 5\n",
                  "Average Phosphorous Required : 17.72\n",
                  "Maximum Phosphorous Required : 30\n",
                  "-------------------------------------------------\n",
                  "Statistics for Potassium :\n",
                  "Minimum Potassium Required : 45\n",
                  "Average Potassium Required : 50.08\n",
                  "Maximum Potassium Required : 55\n",
                  "-------------------------------------------------\n",
                  "Statistics for Temperature :\n",
                  "Minimum Temperature Required :  27.02\n",
                  "Average Temperature Required :  28.66\n",
                  "Maximum Temperature Required :  29.94\n",
                  "-------------------------------------------------\n",
                  "Statistics for Humidity :\n",
                  "Minimum Humidity Required :  90.02\n",
                  "Average Humidity Required :  92.34\n",
                  "Maximum Humidity Required :  94.96\n",
                  "-------------------------------------------------\n",
                  "Statistics for PH :\n",
                  "Minimum PH Required :  6.00\n",
                  "Average PH Required :  6.36\n",
                  "Maximum PH Required :  6.78\n",
                  "-------------------------------------------------\n",
                  "Statistics for Rainfall :\n",
                  "Minimum Rainfall Required :  20.21\n",
                  "Average Rainfall Required :  24.69\n",
                  "Maximum Rainfall Required :  29.87\n",
                  "-------------------------------------------------\n"
                ]
              }
            ],
            "_view_module": "@jupyter-widgets/output",
            "_model_module_version": "1.0.0",
            "_view_count": null,
            "_view_module_version": "1.0.0",
            "layout": "IPY_MODEL_84f4bf8e1be1416097a2966cc489b9e4",
            "_model_module": "@jupyter-widgets/output"
          }
        },
        "b7b176dedd654c628cfc34b56bfa7140": {
          "model_module": "@jupyter-widgets/controls",
          "model_name": "DescriptionStyleModel",
          "model_module_version": "1.5.0",
          "state": {
            "_view_name": "StyleView",
            "_model_name": "DescriptionStyleModel",
            "description_width": "",
            "_view_module": "@jupyter-widgets/base",
            "_model_module_version": "1.5.0",
            "_view_count": null,
            "_view_module_version": "1.2.0",
            "_model_module": "@jupyter-widgets/controls"
          }
        },
        "8b0294ff64cf4bf7b62494f1f2b248dc": {
          "model_module": "@jupyter-widgets/base",
          "model_name": "LayoutModel",
          "model_module_version": "1.2.0",
          "state": {
            "_view_name": "LayoutView",
            "grid_template_rows": null,
            "right": null,
            "justify_content": null,
            "_view_module": "@jupyter-widgets/base",
            "overflow": null,
            "_model_module_version": "1.2.0",
            "_view_count": null,
            "flex_flow": null,
            "width": null,
            "min_width": null,
            "border": null,
            "align_items": null,
            "bottom": null,
            "_model_module": "@jupyter-widgets/base",
            "top": null,
            "grid_column": null,
            "overflow_y": null,
            "overflow_x": null,
            "grid_auto_flow": null,
            "grid_area": null,
            "grid_template_columns": null,
            "flex": null,
            "_model_name": "LayoutModel",
            "justify_items": null,
            "grid_row": null,
            "max_height": null,
            "align_content": null,
            "visibility": null,
            "align_self": null,
            "height": null,
            "min_height": null,
            "padding": null,
            "grid_auto_rows": null,
            "grid_gap": null,
            "max_width": null,
            "order": null,
            "_view_module_version": "1.2.0",
            "grid_template_areas": null,
            "object_position": null,
            "object_fit": null,
            "grid_auto_columns": null,
            "margin": null,
            "display": null,
            "left": null
          }
        },
        "84f4bf8e1be1416097a2966cc489b9e4": {
          "model_module": "@jupyter-widgets/base",
          "model_name": "LayoutModel",
          "model_module_version": "1.2.0",
          "state": {
            "_view_name": "LayoutView",
            "grid_template_rows": null,
            "right": null,
            "justify_content": null,
            "_view_module": "@jupyter-widgets/base",
            "overflow": null,
            "_model_module_version": "1.2.0",
            "_view_count": null,
            "flex_flow": null,
            "width": null,
            "min_width": null,
            "border": null,
            "align_items": null,
            "bottom": null,
            "_model_module": "@jupyter-widgets/base",
            "top": null,
            "grid_column": null,
            "overflow_y": null,
            "overflow_x": null,
            "grid_auto_flow": null,
            "grid_area": null,
            "grid_template_columns": null,
            "flex": null,
            "_model_name": "LayoutModel",
            "justify_items": null,
            "grid_row": null,
            "max_height": null,
            "align_content": null,
            "visibility": null,
            "align_self": null,
            "height": null,
            "min_height": null,
            "padding": null,
            "grid_auto_rows": null,
            "grid_gap": null,
            "max_width": null,
            "order": null,
            "_view_module_version": "1.2.0",
            "grid_template_areas": null,
            "object_position": null,
            "object_fit": null,
            "grid_auto_columns": null,
            "margin": null,
            "display": null,
            "left": null
          }
        },
        "e01844a5267541d6bf2762ed1a9e449a": {
          "model_module": "@jupyter-widgets/controls",
          "model_name": "VBoxModel",
          "model_module_version": "1.5.0",
          "state": {
            "_view_name": "VBoxView",
            "_dom_classes": [
              "widget-interact"
            ],
            "_model_name": "VBoxModel",
            "_view_module": "@jupyter-widgets/controls",
            "_model_module_version": "1.5.0",
            "_view_count": null,
            "_view_module_version": "1.5.0",
            "box_style": "",
            "layout": "IPY_MODEL_93ee29167f034c918e1654298afa1f08",
            "_model_module": "@jupyter-widgets/controls",
            "children": [
              "IPY_MODEL_88ee3c63db404503982e0cb8165a9677",
              "IPY_MODEL_08edd28df9c3498895c68b4766dfa0fc"
            ]
          }
        },
        "93ee29167f034c918e1654298afa1f08": {
          "model_module": "@jupyter-widgets/base",
          "model_name": "LayoutModel",
          "model_module_version": "1.2.0",
          "state": {
            "_view_name": "LayoutView",
            "grid_template_rows": null,
            "right": null,
            "justify_content": null,
            "_view_module": "@jupyter-widgets/base",
            "overflow": null,
            "_model_module_version": "1.2.0",
            "_view_count": null,
            "flex_flow": null,
            "width": null,
            "min_width": null,
            "border": null,
            "align_items": null,
            "bottom": null,
            "_model_module": "@jupyter-widgets/base",
            "top": null,
            "grid_column": null,
            "overflow_y": null,
            "overflow_x": null,
            "grid_auto_flow": null,
            "grid_area": null,
            "grid_template_columns": null,
            "flex": null,
            "_model_name": "LayoutModel",
            "justify_items": null,
            "grid_row": null,
            "max_height": null,
            "align_content": null,
            "visibility": null,
            "align_self": null,
            "height": null,
            "min_height": null,
            "padding": null,
            "grid_auto_rows": null,
            "grid_gap": null,
            "max_width": null,
            "order": null,
            "_view_module_version": "1.2.0",
            "grid_template_areas": null,
            "object_position": null,
            "object_fit": null,
            "grid_auto_columns": null,
            "margin": null,
            "display": null,
            "left": null
          }
        },
        "88ee3c63db404503982e0cb8165a9677": {
          "model_module": "@jupyter-widgets/controls",
          "model_name": "DropdownModel",
          "model_module_version": "1.5.0",
          "state": {
            "_options_labels": [
              "N",
              "P",
              "K",
              "temperature",
              "ph",
              "humidity",
              "rainfall"
            ],
            "_view_name": "DropdownView",
            "style": "IPY_MODEL_bbe445eeef474f0fb7b5e3d0a89b7a7a",
            "_dom_classes": [],
            "description": "conditions",
            "_model_name": "DropdownModel",
            "index": 2,
            "_view_module": "@jupyter-widgets/controls",
            "_model_module_version": "1.5.0",
            "_view_count": null,
            "disabled": false,
            "_view_module_version": "1.5.0",
            "description_tooltip": null,
            "_model_module": "@jupyter-widgets/controls",
            "layout": "IPY_MODEL_c038e83698704548bf296464078966bb"
          }
        },
        "08edd28df9c3498895c68b4766dfa0fc": {
          "model_module": "@jupyter-widgets/output",
          "model_name": "OutputModel",
          "model_module_version": "1.0.0",
          "state": {
            "_view_name": "OutputView",
            "msg_id": "",
            "_dom_classes": [],
            "_model_name": "OutputModel",
            "outputs": [
              {
                "output_type": "stream",
                "name": "stdout",
                "text": [
                  "Average Value for K is  48.15\n",
                  "----------------------------------------------------------------\n",
                  "Rice :  39.87\n",
                  "Black Grams :  19.24\n",
                  "Banana :  50.05\n",
                  "Jute :  39.99\n",
                  "Coconut :  30.59\n",
                  "Apple :  199.89\n",
                  "Papaya :  50.04\n",
                  "Muskmelon :  50.08\n",
                  "Grapes :  200.11\n",
                  "Watermelon :  50.22\n",
                  "Kedney Beans :  20.05\n",
                  "Mung Beans :  19.87\n",
                  "Oranges :  10.01\n",
                  "Chick Peas :  79.92\n",
                  "Lentils :  19.41\n",
                  "Cotton :  19.56\n",
                  "Maize :  19.79\n",
                  "Moth Beans :  20.23\n",
                  "Pigeon peas :  20.29\n",
                  "Mango :  29.92\n",
                  "Pomegrante :  nan\n",
                  "Coffee :  29.94\n"
                ]
              }
            ],
            "_view_module": "@jupyter-widgets/output",
            "_model_module_version": "1.0.0",
            "_view_count": null,
            "_view_module_version": "1.0.0",
            "layout": "IPY_MODEL_2de2f907c181405084fe2ce42b682d49",
            "_model_module": "@jupyter-widgets/output"
          }
        },
        "bbe445eeef474f0fb7b5e3d0a89b7a7a": {
          "model_module": "@jupyter-widgets/controls",
          "model_name": "DescriptionStyleModel",
          "model_module_version": "1.5.0",
          "state": {
            "_view_name": "StyleView",
            "_model_name": "DescriptionStyleModel",
            "description_width": "",
            "_view_module": "@jupyter-widgets/base",
            "_model_module_version": "1.5.0",
            "_view_count": null,
            "_view_module_version": "1.2.0",
            "_model_module": "@jupyter-widgets/controls"
          }
        },
        "c038e83698704548bf296464078966bb": {
          "model_module": "@jupyter-widgets/base",
          "model_name": "LayoutModel",
          "model_module_version": "1.2.0",
          "state": {
            "_view_name": "LayoutView",
            "grid_template_rows": null,
            "right": null,
            "justify_content": null,
            "_view_module": "@jupyter-widgets/base",
            "overflow": null,
            "_model_module_version": "1.2.0",
            "_view_count": null,
            "flex_flow": null,
            "width": null,
            "min_width": null,
            "border": null,
            "align_items": null,
            "bottom": null,
            "_model_module": "@jupyter-widgets/base",
            "top": null,
            "grid_column": null,
            "overflow_y": null,
            "overflow_x": null,
            "grid_auto_flow": null,
            "grid_area": null,
            "grid_template_columns": null,
            "flex": null,
            "_model_name": "LayoutModel",
            "justify_items": null,
            "grid_row": null,
            "max_height": null,
            "align_content": null,
            "visibility": null,
            "align_self": null,
            "height": null,
            "min_height": null,
            "padding": null,
            "grid_auto_rows": null,
            "grid_gap": null,
            "max_width": null,
            "order": null,
            "_view_module_version": "1.2.0",
            "grid_template_areas": null,
            "object_position": null,
            "object_fit": null,
            "grid_auto_columns": null,
            "margin": null,
            "display": null,
            "left": null
          }
        },
        "2de2f907c181405084fe2ce42b682d49": {
          "model_module": "@jupyter-widgets/base",
          "model_name": "LayoutModel",
          "model_module_version": "1.2.0",
          "state": {
            "_view_name": "LayoutView",
            "grid_template_rows": null,
            "right": null,
            "justify_content": null,
            "_view_module": "@jupyter-widgets/base",
            "overflow": null,
            "_model_module_version": "1.2.0",
            "_view_count": null,
            "flex_flow": null,
            "width": null,
            "min_width": null,
            "border": null,
            "align_items": null,
            "bottom": null,
            "_model_module": "@jupyter-widgets/base",
            "top": null,
            "grid_column": null,
            "overflow_y": null,
            "overflow_x": null,
            "grid_auto_flow": null,
            "grid_area": null,
            "grid_template_columns": null,
            "flex": null,
            "_model_name": "LayoutModel",
            "justify_items": null,
            "grid_row": null,
            "max_height": null,
            "align_content": null,
            "visibility": null,
            "align_self": null,
            "height": null,
            "min_height": null,
            "padding": null,
            "grid_auto_rows": null,
            "grid_gap": null,
            "max_width": null,
            "order": null,
            "_view_module_version": "1.2.0",
            "grid_template_areas": null,
            "object_position": null,
            "object_fit": null,
            "grid_auto_columns": null,
            "margin": null,
            "display": null,
            "left": null
          }
        },
        "c5e33021a11d452cbcd85fa55e33c44e": {
          "model_module": "@jupyter-widgets/controls",
          "model_name": "VBoxModel",
          "model_module_version": "1.5.0",
          "state": {
            "_view_name": "VBoxView",
            "_dom_classes": [
              "widget-interact"
            ],
            "_model_name": "VBoxModel",
            "_view_module": "@jupyter-widgets/controls",
            "_model_module_version": "1.5.0",
            "_view_count": null,
            "_view_module_version": "1.5.0",
            "box_style": "",
            "layout": "IPY_MODEL_1cc1ccae288c4591b39c52dbd0eedbda",
            "_model_module": "@jupyter-widgets/controls",
            "children": [
              "IPY_MODEL_79b5c46b2d754ef89243bbc89a06ed43",
              "IPY_MODEL_6d51d28fdcc745a68713e0c14e8b595b"
            ]
          }
        },
        "1cc1ccae288c4591b39c52dbd0eedbda": {
          "model_module": "@jupyter-widgets/base",
          "model_name": "LayoutModel",
          "model_module_version": "1.2.0",
          "state": {
            "_view_name": "LayoutView",
            "grid_template_rows": null,
            "right": null,
            "justify_content": null,
            "_view_module": "@jupyter-widgets/base",
            "overflow": null,
            "_model_module_version": "1.2.0",
            "_view_count": null,
            "flex_flow": null,
            "width": null,
            "min_width": null,
            "border": null,
            "align_items": null,
            "bottom": null,
            "_model_module": "@jupyter-widgets/base",
            "top": null,
            "grid_column": null,
            "overflow_y": null,
            "overflow_x": null,
            "grid_auto_flow": null,
            "grid_area": null,
            "grid_template_columns": null,
            "flex": null,
            "_model_name": "LayoutModel",
            "justify_items": null,
            "grid_row": null,
            "max_height": null,
            "align_content": null,
            "visibility": null,
            "align_self": null,
            "height": null,
            "min_height": null,
            "padding": null,
            "grid_auto_rows": null,
            "grid_gap": null,
            "max_width": null,
            "order": null,
            "_view_module_version": "1.2.0",
            "grid_template_areas": null,
            "object_position": null,
            "object_fit": null,
            "grid_auto_columns": null,
            "margin": null,
            "display": null,
            "left": null
          }
        },
        "79b5c46b2d754ef89243bbc89a06ed43": {
          "model_module": "@jupyter-widgets/controls",
          "model_name": "DropdownModel",
          "model_module_version": "1.5.0",
          "state": {
            "_options_labels": [
              "N",
              "P",
              "K",
              "temperature",
              "ph",
              "humidity",
              "rainfall"
            ],
            "_view_name": "DropdownView",
            "style": "IPY_MODEL_23026b09fbf448639755337a75cadcb8",
            "_dom_classes": [],
            "description": "conditions",
            "_model_name": "DropdownModel",
            "index": 0,
            "_view_module": "@jupyter-widgets/controls",
            "_model_module_version": "1.5.0",
            "_view_count": null,
            "disabled": false,
            "_view_module_version": "1.5.0",
            "description_tooltip": null,
            "_model_module": "@jupyter-widgets/controls",
            "layout": "IPY_MODEL_dbd3b3514a5946d9868e3d4a6e787d4d"
          }
        },
        "6d51d28fdcc745a68713e0c14e8b595b": {
          "model_module": "@jupyter-widgets/output",
          "model_name": "OutputModel",
          "model_module_version": "1.0.0",
          "state": {
            "_view_name": "OutputView",
            "msg_id": "",
            "_dom_classes": [],
            "_model_name": "OutputModel",
            "outputs": [
              {
                "output_type": "stream",
                "name": "stdout",
                "text": [
                  "Crops which require greater than average N \n",
                  "\n",
                  "['rice' 'maize' 'chickpea' 'blackgram' 'banana' 'watermelon' 'muskmelon'\n",
                  " 'papaya' 'cotton' 'jute' 'coffee']\n",
                  "-------------------------------------------------------\n",
                  "Crops which require less than average N \n",
                  "\n",
                  "['chickpea' 'kidneybeans' 'pigeonpeas' 'mothbeans' 'mungbean' 'blackgram'\n",
                  " 'lentil' 'pomegranate' 'mango' 'grapes' 'apple' 'orange' 'papaya'\n",
                  " 'coconut']\n"
                ]
              }
            ],
            "_view_module": "@jupyter-widgets/output",
            "_model_module_version": "1.0.0",
            "_view_count": null,
            "_view_module_version": "1.0.0",
            "layout": "IPY_MODEL_fa76059e8f75401c976b39ac2b7a6283",
            "_model_module": "@jupyter-widgets/output"
          }
        },
        "23026b09fbf448639755337a75cadcb8": {
          "model_module": "@jupyter-widgets/controls",
          "model_name": "DescriptionStyleModel",
          "model_module_version": "1.5.0",
          "state": {
            "_view_name": "StyleView",
            "_model_name": "DescriptionStyleModel",
            "description_width": "",
            "_view_module": "@jupyter-widgets/base",
            "_model_module_version": "1.5.0",
            "_view_count": null,
            "_view_module_version": "1.2.0",
            "_model_module": "@jupyter-widgets/controls"
          }
        },
        "dbd3b3514a5946d9868e3d4a6e787d4d": {
          "model_module": "@jupyter-widgets/base",
          "model_name": "LayoutModel",
          "model_module_version": "1.2.0",
          "state": {
            "_view_name": "LayoutView",
            "grid_template_rows": null,
            "right": null,
            "justify_content": null,
            "_view_module": "@jupyter-widgets/base",
            "overflow": null,
            "_model_module_version": "1.2.0",
            "_view_count": null,
            "flex_flow": null,
            "width": null,
            "min_width": null,
            "border": null,
            "align_items": null,
            "bottom": null,
            "_model_module": "@jupyter-widgets/base",
            "top": null,
            "grid_column": null,
            "overflow_y": null,
            "overflow_x": null,
            "grid_auto_flow": null,
            "grid_area": null,
            "grid_template_columns": null,
            "flex": null,
            "_model_name": "LayoutModel",
            "justify_items": null,
            "grid_row": null,
            "max_height": null,
            "align_content": null,
            "visibility": null,
            "align_self": null,
            "height": null,
            "min_height": null,
            "padding": null,
            "grid_auto_rows": null,
            "grid_gap": null,
            "max_width": null,
            "order": null,
            "_view_module_version": "1.2.0",
            "grid_template_areas": null,
            "object_position": null,
            "object_fit": null,
            "grid_auto_columns": null,
            "margin": null,
            "display": null,
            "left": null
          }
        },
        "fa76059e8f75401c976b39ac2b7a6283": {
          "model_module": "@jupyter-widgets/base",
          "model_name": "LayoutModel",
          "model_module_version": "1.2.0",
          "state": {
            "_view_name": "LayoutView",
            "grid_template_rows": null,
            "right": null,
            "justify_content": null,
            "_view_module": "@jupyter-widgets/base",
            "overflow": null,
            "_model_module_version": "1.2.0",
            "_view_count": null,
            "flex_flow": null,
            "width": null,
            "min_width": null,
            "border": null,
            "align_items": null,
            "bottom": null,
            "_model_module": "@jupyter-widgets/base",
            "top": null,
            "grid_column": null,
            "overflow_y": null,
            "overflow_x": null,
            "grid_auto_flow": null,
            "grid_area": null,
            "grid_template_columns": null,
            "flex": null,
            "_model_name": "LayoutModel",
            "justify_items": null,
            "grid_row": null,
            "max_height": null,
            "align_content": null,
            "visibility": null,
            "align_self": null,
            "height": null,
            "min_height": null,
            "padding": null,
            "grid_auto_rows": null,
            "grid_gap": null,
            "max_width": null,
            "order": null,
            "_view_module_version": "1.2.0",
            "grid_template_areas": null,
            "object_position": null,
            "object_fit": null,
            "grid_auto_columns": null,
            "margin": null,
            "display": null,
            "left": null
          }
        }
      }
    }
  },
  "cells": [
    {
      "cell_type": "markdown",
      "metadata": {
        "id": "view-in-github",
        "colab_type": "text"
      },
      "source": [
        "<a href=\"https://colab.research.google.com/github/souvikrubai/predictive-modeling-for-crop-yield/blob/main/crop_yield.ipynb\" target=\"_parent\"><img src=\"https://colab.research.google.com/assets/colab-badge.svg\" alt=\"Open In Colab\"/></a>"
      ]
    },
    {
      "cell_type": "code",
      "metadata": {
        "id": "zOH9Ce4gTv24"
      },
      "source": [
        "#Importing Libraries\n",
        "\n",
        "import numpy as np\n",
        "import pandas as pd\n",
        "\n",
        "#For data visualization\n",
        "import matplotlib.pyplot as plt\n",
        "import seaborn as sns\n",
        "\n",
        "#For interactivity\n",
        "from ipywidgets import interact\n",
        "\n",
        "#For warnings\n",
        "import warnings\n",
        "warnings.filterwarnings('ignore')\n",
        "\n",
        "#For Clustering Analysis\n",
        "from sklearn.cluster import KMeans\n",
        "from sklearn.model_selection import train_test_split\n",
        "from sklearn.linear_model import LogisticRegression\n",
        "from sklearn.metrics import classification_report\n",
        "from sklearn.metrics import confusion_matrix"
      ],
      "execution_count": 1,
      "outputs": []
    },
    {
      "cell_type": "code",
      "metadata": {
        "colab": {
          "base_uri": "https://localhost:8080/",
          "height": 424
        },
        "id": "LNW29rDLUBn4",
        "outputId": "17fba460-168e-415b-b7f2-96faee79eb6a"
      },
      "source": [
        "#Loading Dataset\n",
        "data = pd.read_csv('/content/drive/MyDrive/Crop_recommendation.csv')\n",
        "data"
      ],
      "execution_count": 2,
      "outputs": [
        {
          "output_type": "execute_result",
          "data": {
            "text/html": [
              "<div>\n",
              "<style scoped>\n",
              "    .dataframe tbody tr th:only-of-type {\n",
              "        vertical-align: middle;\n",
              "    }\n",
              "\n",
              "    .dataframe tbody tr th {\n",
              "        vertical-align: top;\n",
              "    }\n",
              "\n",
              "    .dataframe thead th {\n",
              "        text-align: right;\n",
              "    }\n",
              "</style>\n",
              "<table border=\"1\" class=\"dataframe\">\n",
              "  <thead>\n",
              "    <tr style=\"text-align: right;\">\n",
              "      <th></th>\n",
              "      <th>N</th>\n",
              "      <th>P</th>\n",
              "      <th>K</th>\n",
              "      <th>temperature</th>\n",
              "      <th>humidity</th>\n",
              "      <th>ph</th>\n",
              "      <th>rainfall</th>\n",
              "      <th>label</th>\n",
              "    </tr>\n",
              "  </thead>\n",
              "  <tbody>\n",
              "    <tr>\n",
              "      <th>0</th>\n",
              "      <td>90</td>\n",
              "      <td>42</td>\n",
              "      <td>43</td>\n",
              "      <td>20.879744</td>\n",
              "      <td>82.002744</td>\n",
              "      <td>6.502985</td>\n",
              "      <td>202.935536</td>\n",
              "      <td>rice</td>\n",
              "    </tr>\n",
              "    <tr>\n",
              "      <th>1</th>\n",
              "      <td>85</td>\n",
              "      <td>58</td>\n",
              "      <td>41</td>\n",
              "      <td>21.770462</td>\n",
              "      <td>80.319644</td>\n",
              "      <td>7.038096</td>\n",
              "      <td>226.655537</td>\n",
              "      <td>rice</td>\n",
              "    </tr>\n",
              "    <tr>\n",
              "      <th>2</th>\n",
              "      <td>60</td>\n",
              "      <td>55</td>\n",
              "      <td>44</td>\n",
              "      <td>23.004459</td>\n",
              "      <td>82.320763</td>\n",
              "      <td>7.840207</td>\n",
              "      <td>263.964248</td>\n",
              "      <td>rice</td>\n",
              "    </tr>\n",
              "    <tr>\n",
              "      <th>3</th>\n",
              "      <td>74</td>\n",
              "      <td>35</td>\n",
              "      <td>40</td>\n",
              "      <td>26.491096</td>\n",
              "      <td>80.158363</td>\n",
              "      <td>6.980401</td>\n",
              "      <td>242.864034</td>\n",
              "      <td>rice</td>\n",
              "    </tr>\n",
              "    <tr>\n",
              "      <th>4</th>\n",
              "      <td>78</td>\n",
              "      <td>42</td>\n",
              "      <td>42</td>\n",
              "      <td>20.130175</td>\n",
              "      <td>81.604873</td>\n",
              "      <td>7.628473</td>\n",
              "      <td>262.717340</td>\n",
              "      <td>rice</td>\n",
              "    </tr>\n",
              "    <tr>\n",
              "      <th>...</th>\n",
              "      <td>...</td>\n",
              "      <td>...</td>\n",
              "      <td>...</td>\n",
              "      <td>...</td>\n",
              "      <td>...</td>\n",
              "      <td>...</td>\n",
              "      <td>...</td>\n",
              "      <td>...</td>\n",
              "    </tr>\n",
              "    <tr>\n",
              "      <th>2195</th>\n",
              "      <td>107</td>\n",
              "      <td>34</td>\n",
              "      <td>32</td>\n",
              "      <td>26.774637</td>\n",
              "      <td>66.413269</td>\n",
              "      <td>6.780064</td>\n",
              "      <td>177.774507</td>\n",
              "      <td>coffee</td>\n",
              "    </tr>\n",
              "    <tr>\n",
              "      <th>2196</th>\n",
              "      <td>99</td>\n",
              "      <td>15</td>\n",
              "      <td>27</td>\n",
              "      <td>27.417112</td>\n",
              "      <td>56.636362</td>\n",
              "      <td>6.086922</td>\n",
              "      <td>127.924610</td>\n",
              "      <td>coffee</td>\n",
              "    </tr>\n",
              "    <tr>\n",
              "      <th>2197</th>\n",
              "      <td>118</td>\n",
              "      <td>33</td>\n",
              "      <td>30</td>\n",
              "      <td>24.131797</td>\n",
              "      <td>67.225123</td>\n",
              "      <td>6.362608</td>\n",
              "      <td>173.322839</td>\n",
              "      <td>coffee</td>\n",
              "    </tr>\n",
              "    <tr>\n",
              "      <th>2198</th>\n",
              "      <td>117</td>\n",
              "      <td>32</td>\n",
              "      <td>34</td>\n",
              "      <td>26.272418</td>\n",
              "      <td>52.127394</td>\n",
              "      <td>6.758793</td>\n",
              "      <td>127.175293</td>\n",
              "      <td>coffee</td>\n",
              "    </tr>\n",
              "    <tr>\n",
              "      <th>2199</th>\n",
              "      <td>104</td>\n",
              "      <td>18</td>\n",
              "      <td>30</td>\n",
              "      <td>23.603016</td>\n",
              "      <td>60.396475</td>\n",
              "      <td>6.779833</td>\n",
              "      <td>140.937041</td>\n",
              "      <td>coffee</td>\n",
              "    </tr>\n",
              "  </tbody>\n",
              "</table>\n",
              "<p>2200 rows × 8 columns</p>\n",
              "</div>"
            ],
            "text/plain": [
              "        N   P   K  temperature   humidity        ph    rainfall   label\n",
              "0      90  42  43    20.879744  82.002744  6.502985  202.935536    rice\n",
              "1      85  58  41    21.770462  80.319644  7.038096  226.655537    rice\n",
              "2      60  55  44    23.004459  82.320763  7.840207  263.964248    rice\n",
              "3      74  35  40    26.491096  80.158363  6.980401  242.864034    rice\n",
              "4      78  42  42    20.130175  81.604873  7.628473  262.717340    rice\n",
              "...   ...  ..  ..          ...        ...       ...         ...     ...\n",
              "2195  107  34  32    26.774637  66.413269  6.780064  177.774507  coffee\n",
              "2196   99  15  27    27.417112  56.636362  6.086922  127.924610  coffee\n",
              "2197  118  33  30    24.131797  67.225123  6.362608  173.322839  coffee\n",
              "2198  117  32  34    26.272418  52.127394  6.758793  127.175293  coffee\n",
              "2199  104  18  30    23.603016  60.396475  6.779833  140.937041  coffee\n",
              "\n",
              "[2200 rows x 8 columns]"
            ]
          },
          "metadata": {},
          "execution_count": 2
        }
      ]
    },
    {
      "cell_type": "code",
      "metadata": {
        "colab": {
          "base_uri": "https://localhost:8080/"
        },
        "id": "VVxNKd_WUtoB",
        "outputId": "795f3bcb-a6dc-46b5-97ba-14ca232c98b9"
      },
      "source": [
        "#Shape of dataset\n",
        "print(\"Shape of the dataset :\",data.shape)\n"
      ],
      "execution_count": 3,
      "outputs": [
        {
          "output_type": "stream",
          "name": "stdout",
          "text": [
            "Shape of the dataset : (2200, 8)\n"
          ]
        }
      ]
    },
    {
      "cell_type": "code",
      "metadata": {
        "colab": {
          "base_uri": "https://localhost:8080/"
        },
        "id": "PyEgI-eOU5qy",
        "outputId": "bb5c258e-2510-43df-a736-26d2caded4e5"
      },
      "source": [
        "#Checking missing values\n",
        "data.isnull().sum()"
      ],
      "execution_count": 4,
      "outputs": [
        {
          "output_type": "execute_result",
          "data": {
            "text/plain": [
              "N              0\n",
              "P              0\n",
              "K              0\n",
              "temperature    0\n",
              "humidity       0\n",
              "ph             0\n",
              "rainfall       0\n",
              "label          0\n",
              "dtype: int64"
            ]
          },
          "metadata": {},
          "execution_count": 4
        }
      ]
    },
    {
      "cell_type": "code",
      "metadata": {
        "colab": {
          "base_uri": "https://localhost:8080/"
        },
        "id": "SEoU_YVvaSWN",
        "outputId": "7401edb4-f679-4fff-ceb0-d4ea84185d19"
      },
      "source": [
        "data['label'].value_counts()"
      ],
      "execution_count": 5,
      "outputs": [
        {
          "output_type": "execute_result",
          "data": {
            "text/plain": [
              "muskmelon      100\n",
              "orange         100\n",
              "apple          100\n",
              "mango          100\n",
              "maize          100\n",
              "mungbean       100\n",
              "chickpea       100\n",
              "coconut        100\n",
              "blackgram      100\n",
              "watermelon     100\n",
              "papaya         100\n",
              "rice           100\n",
              "coffee         100\n",
              "jute           100\n",
              "pomegranate    100\n",
              "pigeonpeas     100\n",
              "lentil         100\n",
              "mothbeans      100\n",
              "cotton         100\n",
              "banana         100\n",
              "kidneybeans    100\n",
              "grapes         100\n",
              "Name: label, dtype: int64"
            ]
          },
          "metadata": {},
          "execution_count": 5
        }
      ]
    },
    {
      "cell_type": "code",
      "metadata": {
        "colab": {
          "base_uri": "https://localhost:8080/"
        },
        "id": "U_K7pJAlaY2g",
        "outputId": "78cd1997-a86d-45d5-ed4e-ae0324075d83"
      },
      "source": [
        "#Checking the Statistics for all the crops\n",
        "print(\"Average Ratio of nitrogen in the soil : {0: .2f}\".format(data['N'].mean()))\n",
        "print(\"Average Ratio of Phosphorous in the soil : {0: .2f}\".format(data['P'].mean()))\n",
        "print(\"Average Ratio of Potassium in the soil : {0: .2f}\".format(data['K'].mean()))\n",
        "print(\"Average temperature in Celsius : {0: .2f}\".format(data['temperature'].mean()))\n",
        "print(\"Average Relative Humidity in % is : {0: .2f}\".format(data['humidity'].mean()))\n",
        "print(\"Average pH value of the soil : {0: .2f}\".format(data['ph'].mean()))\n",
        "print(\"Average Rain fall in mm : {0: .2f}\".format(data['rainfall'].mean()))\n",
        "\n"
      ],
      "execution_count": 6,
      "outputs": [
        {
          "output_type": "stream",
          "name": "stdout",
          "text": [
            "Average Ratio of nitrogen in the soil :  50.55\n",
            "Average Ratio of Phosphorous in the soil :  53.36\n",
            "Average Ratio of Potassium in the soil :  48.15\n",
            "Average temperature in Celsius :  25.62\n",
            "Average Relative Humidity in % is :  71.48\n",
            "Average pH value of the soil :  6.47\n",
            "Average Rain fall in mm :  103.46\n"
          ]
        }
      ]
    },
    {
      "cell_type": "code",
      "metadata": {
        "colab": {
          "base_uri": "https://localhost:8080/",
          "height": 710,
          "referenced_widgets": [
            "36e07e4b9e8846d8be0986ba0abe59b6",
            "fbdc7a0ef7cc40a1be9420c1907ee2fb",
            "3b4ae191818d496f82fe98b340bd5164",
            "37380b8ed7bf47708968df921be75168",
            "b7b176dedd654c628cfc34b56bfa7140",
            "8b0294ff64cf4bf7b62494f1f2b248dc",
            "84f4bf8e1be1416097a2966cc489b9e4"
          ]
        },
        "id": "VMyTvwJBatPQ",
        "outputId": "0ba1a580-67d2-48c6-e3e2-cd116eb4855b"
      },
      "source": [
        "#checking statistics for each crop\n",
        "@interact\n",
        "def summary(crops=list(data['label'].value_counts().index)):\n",
        "  x=data[data['label'] == crops]\n",
        "  print(\"-------------------------------------------------\")\n",
        "  print(\"Statistics for Nitrogen :\")\n",
        "  print(\"Minimum Nitrogen Required :\", x['N'].min())\n",
        "  print(\"Average Nitrogen Required :\", x['N'].mean())\n",
        "  print(\"Maximum Nitrogen Required :\", x['N'].max())\n",
        "  print(\"-------------------------------------------------\")\n",
        "  print(\"Statistics for Phosphorous :\")\n",
        "  print(\"Minimum Phosphorous Required :\", x['P'].min())\n",
        "  print(\"Average Phosphorous Required :\", x['P'].mean())\n",
        "  print(\"Maximum Phosphorous Required :\", x['P'].max())\n",
        "  print(\"-------------------------------------------------\")\n",
        "  print(\"Statistics for Potassium :\")\n",
        "  print(\"Minimum Potassium Required :\", x['K'].min())\n",
        "  print(\"Average Potassium Required :\", x['K'].mean())\n",
        "  print(\"Maximum Potassium Required :\", x['K'].max())\n",
        "  print(\"-------------------------------------------------\")\n",
        "  print(\"Statistics for Temperature :\")\n",
        "  print(\"Minimum Temperature Required : {0: .2f}\".format(x['temperature'].min()))\n",
        "  print(\"Average Temperature Required : {0: .2f}\".format(x['temperature'].mean()))\n",
        "  print(\"Maximum Temperature Required : {0: .2f}\".format(x['temperature'].max()))\n",
        "  print(\"-------------------------------------------------\")\n",
        "  print(\"Statistics for Humidity :\")\n",
        "  print(\"Minimum Humidity Required : {0: .2f}\".format(x['humidity'].min()))\n",
        "  print(\"Average Humidity Required : {0: .2f}\".format(x['humidity'].mean()))\n",
        "  print(\"Maximum Humidity Required : {0: .2f}\".format(x['humidity'].max()))\n",
        "  print(\"-------------------------------------------------\")\n",
        "  print(\"Statistics for PH :\")\n",
        "  print(\"Minimum PH Required : {0: .2f}\".format(x['ph'].min()))\n",
        "  print(\"Average PH Required : {0: .2f}\".format(x['ph'].mean()))\n",
        "  print(\"Maximum PH Required : {0: .2f}\".format(x['ph'].max()))\n",
        "  print(\"-------------------------------------------------\")\n",
        "  print(\"Statistics for Rainfall :\")\n",
        "  print(\"Minimum Rainfall Required : {0: .2f}\".format(x['rainfall'].min()))\n",
        "  print(\"Average Rainfall Required : {0: .2f}\".format(x['rainfall'].mean()))\n",
        "  print(\"Maximum Rainfall Required : {0: .2f}\".format(x['rainfall'].max()))\n",
        "  print(\"-------------------------------------------------\")"
      ],
      "execution_count": 9,
      "outputs": [
        {
          "output_type": "display_data",
          "data": {
            "application/vnd.jupyter.widget-view+json": {
              "model_id": "36e07e4b9e8846d8be0986ba0abe59b6",
              "version_minor": 0,
              "version_major": 2
            },
            "text/plain": [
              "interactive(children=(Dropdown(description='crops', options=('muskmelon', 'orange', 'apple', 'mango', 'maize',…"
            ]
          },
          "metadata": {}
        }
      ]
    },
    {
      "cell_type": "code",
      "metadata": {
        "colab": {
          "base_uri": "https://localhost:8080/",
          "height": 490,
          "referenced_widgets": [
            "e01844a5267541d6bf2762ed1a9e449a",
            "93ee29167f034c918e1654298afa1f08",
            "88ee3c63db404503982e0cb8165a9677",
            "08edd28df9c3498895c68b4766dfa0fc",
            "bbe445eeef474f0fb7b5e3d0a89b7a7a",
            "c038e83698704548bf296464078966bb",
            "2de2f907c181405084fe2ce42b682d49"
          ]
        },
        "id": "ERWS2F-jeH6z",
        "outputId": "8f0ee419-69b6-43a3-df09-7507ddb53ed0"
      },
      "source": [
        "# Lets compare the average Requirement for eash crops with average conditions\n",
        "\n",
        "@interact\n",
        "def compare(conditions = ['N','P','K','temperature','ph','humidity','rainfall']):\n",
        "    print(\"Average Value for\",conditions,\"is {0: .2f}\".format(data[conditions].mean()))\n",
        "    print(\"----------------------------------------------------------------\")\n",
        "    print(\"Rice : {0: .2f}\".format(data[(data['label'] == 'rice')][conditions].mean()))\n",
        "    print(\"Black Grams : {0: .2f}\".format(data[(data['label'] == 'blackgram')][conditions].mean()))\n",
        "    print(\"Banana : {0: .2f}\".format(data[(data['label'] == 'banana')][conditions].mean()))\n",
        "    print(\"Jute : {0: .2f}\".format(data[(data['label'] == 'jute')][conditions].mean()))\n",
        "    print(\"Coconut : {0: .2f}\".format(data[(data['label'] == 'coconut')][conditions].mean()))\n",
        "    print(\"Apple : {0: .2f}\".format(data[(data['label'] == 'apple')][conditions].mean()))\n",
        "    print(\"Papaya : {0: .2f}\".format(data[(data['label'] == 'papaya')][conditions].mean()))\n",
        "    print(\"Muskmelon : {0: .2f}\".format(data[(data['label'] == 'muskmelon')][conditions].mean()))\n",
        "    print(\"Grapes : {0: .2f}\".format(data[(data['label'] == 'grapes')][conditions].mean()))\n",
        "    print(\"Watermelon : {0: .2f}\".format(data[(data['label'] == 'watermelon')][conditions].mean()))\n",
        "    print(\"Kedney Beans : {0: .2f}\".format(data[(data['label'] == 'kidneybeans')][conditions].mean()))\n",
        "    print(\"Mung Beans : {0: .2f}\".format(data[(data['label'] == 'mungbean')][conditions].mean()))\n",
        "    print(\"Oranges : {0: .2f}\".format(data[(data['label'] == 'orange')][conditions].mean()))\n",
        "    print(\"Chick Peas : {0: .2f}\".format(data[(data['label'] == 'chickpea')][conditions].mean()))\n",
        "    print(\"Lentils : {0: .2f}\".format(data[(data['label'] == 'lentil')][conditions].mean()))\n",
        "    print(\"Cotton : {0: .2f}\".format(data[(data['label'] == 'cotton')][conditions].mean()))\n",
        "    print(\"Maize : {0: .2f}\".format(data[(data['label'] == 'maize')][conditions].mean()))\n",
        "    print(\"Moth Beans : {0: .2f}\".format(data[(data['label'] == 'mothbeans')][conditions].mean()))\n",
        "    print(\"Pigeon peas : {0: .2f}\".format(data[(data['label'] == 'pigeonpeas')][conditions].mean()))\n",
        "    print(\"Mango : {0: .2f}\".format(data[(data['label'] == 'mango')][conditions].mean()))\n",
        "    print(\"Pomegrante : {0: .2f}\".format(data[(data['label'] == 'pomegrante')][conditions].mean()))\n",
        "    print(\"Coffee : {0: .2f}\".format(data[(data['label'] == 'coffee')][conditions].mean()))"
      ],
      "execution_count": 10,
      "outputs": [
        {
          "output_type": "display_data",
          "data": {
            "application/vnd.jupyter.widget-view+json": {
              "model_id": "e01844a5267541d6bf2762ed1a9e449a",
              "version_minor": 0,
              "version_major": 2
            },
            "text/plain": [
              "interactive(children=(Dropdown(description='conditions', options=('N', 'P', 'K', 'temperature', 'ph', 'humidit…"
            ]
          },
          "metadata": {}
        }
      ]
    },
    {
      "cell_type": "code",
      "metadata": {
        "colab": {
          "base_uri": "https://localhost:8080/",
          "height": 557
        },
        "id": "17j6pH4SfgGB",
        "outputId": "34e9b277-aafe-45e5-8c8d-247363da6834"
      },
      "source": [
        "#Distribution for Agricultural Conditions\n",
        "plt.figure(figsize=(15,8))\n",
        "plt.subplot(2,4,1)\n",
        "sns.distplot(data['N'],color = 'blue')\n",
        "plt.xlabel('Ratio of Nitrogen',fontsize = 12)\n",
        "plt.grid()\n",
        "\n",
        "plt.subplot(2,4,2)\n",
        "sns.distplot(data['P'],color = 'green')\n",
        "plt.xlabel('Ratio of Phosphorous',fontsize = 12)\n",
        "plt.grid()\n",
        "\n",
        "plt.subplot(2,4,3)\n",
        "sns.distplot(data['K'],color = 'darkblue')\n",
        "plt.xlabel('Ratio of Potassium',fontsize = 12)\n",
        "plt.grid()\n",
        "\n",
        "plt.subplot(2,4,4)\n",
        "sns.distplot(data['temperature'],color = 'black')\n",
        "plt.xlabel('Temperature',fontsize = 12)\n",
        "plt.grid()\n",
        "\n",
        "plt.subplot(2,4,5)\n",
        "sns.distplot(data['rainfall'],color = 'grey')\n",
        "plt.xlabel('Rainfall',fontsize = 12)\n",
        "plt.grid()\n",
        "\n",
        "plt.subplot(2,4,6)\n",
        "sns.distplot(data['humidity'],color = 'lightgreen')\n",
        "plt.xlabel('Humidity',fontsize = 12)\n",
        "plt.grid()\n",
        "\n",
        "plt.subplot(2,4,7)\n",
        "sns.distplot(data['ph'],color = 'darkgreen')\n",
        "plt.xlabel('ph level',fontsize = 12)\n",
        "plt.grid()\n",
        "\n",
        "plt.suptitle('Distribution for Agricultural Conditions', fontsize = 20)\n",
        "plt.show()\n",
        "\n"
      ],
      "execution_count": 11,
      "outputs": [
        {
          "output_type": "display_data",
          "data": {
            "image/png": "[encoded data removed]",
            "text/plain": [
              "<Figure size 1080x576 with 7 Axes>"
            ]
          },
          "metadata": {
            "needs_background": "light"
          }
        }
      ]
    },
    {
      "cell_type": "code",
      "metadata": {
        "colab": {
          "base_uri": "https://localhost:8080/",
          "height": 233,
          "referenced_widgets": [
            "c5e33021a11d452cbcd85fa55e33c44e",
            "1cc1ccae288c4591b39c52dbd0eedbda",
            "79b5c46b2d754ef89243bbc89a06ed43",
            "6d51d28fdcc745a68713e0c14e8b595b",
            "23026b09fbf448639755337a75cadcb8",
            "dbd3b3514a5946d9868e3d4a6e787d4d",
            "fa76059e8f75401c976b39ac2b7a6283"
          ]
        },
        "id": "1NU3_cf7hQWP",
        "outputId": "eb1ee886-60aa-473d-cb1e-0ff12125e890"
      },
      "source": [
        "# Crops requires more rainfall,temperature,humidity,Nitrogen,Potassium,Phosphorous and ph value VS Crops requires Less \n",
        "@interact\n",
        "def compare(conditions = ['N','P','K','temperature','ph','humidity','rainfall']):\n",
        "    print(\"Crops which require greater than average\",conditions,'\\n')\n",
        "    print(data[data[conditions] > data[conditions].mean()]['label'].unique())\n",
        "    print(\"-------------------------------------------------------\")\n",
        "    print(\"Crops which require less than average\",conditions,'\\n')\n",
        "    print(data[data[conditions] <= data[conditions].mean()]['label'].unique())"
      ],
      "execution_count": 12,
      "outputs": [
        {
          "output_type": "display_data",
          "data": {
            "application/vnd.jupyter.widget-view+json": {
              "model_id": "c5e33021a11d452cbcd85fa55e33c44e",
              "version_minor": 0,
              "version_major": 2
            },
            "text/plain": [
              "interactive(children=(Dropdown(description='conditions', options=('N', 'P', 'K', 'temperature', 'ph', 'humidit…"
            ]
          },
          "metadata": {}
        }
      ]
    },
    {
      "cell_type": "code",
      "metadata": {
        "colab": {
          "base_uri": "https://localhost:8080/"
        },
        "id": "7ceBOROphkge",
        "outputId": "40f06e07-b4aa-45ec-a900-f9f207b48cb9"
      },
      "source": [
        "# Crops which Require more Rainfall vs Crops which Require Less Rainfall\n",
        "print(\"Crops which requires very High rainfall:\",data[data['rainfall'] > 200]['label'].unique())\n",
        "print(\"Crops which requires very Low rainfall:\",data[data['rainfall'] < 40]['label'].unique())"
      ],
      "execution_count": 13,
      "outputs": [
        {
          "output_type": "stream",
          "name": "stdout",
          "text": [
            "Crops which requires very High rainfall: ['rice' 'papaya' 'coconut']\n",
            "Crops which requires very Low rainfall: ['mothbeans' 'mungbean' 'lentil' 'muskmelon']\n"
          ]
        }
      ]
    },
    {
      "cell_type": "code",
      "metadata": {
        "colab": {
          "base_uri": "https://localhost:8080/"
        },
        "id": "3fduONdChwqv",
        "outputId": "a9040c69-d2ac-42bd-c987-31c558e0484c"
      },
      "source": [
        "print(\"Crops which requires very High ratio of Nitrogen Content in soil :\",data[data['N'] > 120]['label'].unique())\n",
        "print(\"Crops which requires very High ratio of Phosphorous Content in soil :\",data[data['P'] > 100]['label'].unique())\n",
        "print(\"Crops which requires very High ratio of Potassium Content in soil :\",data[data['K'] > 200]['label'].unique())\n",
        "print(\"Crops which requires very High Rainfall :\",data[data['rainfall'] > 200]['label'].unique())\n",
        "print(\"Crops which requires very Low Rainfall:\",data[data['rainfall'] < 40]['label'].unique())\n",
        "print(\"Crops which requires very Low Temperature :\",data[data['temperature'] < 10]['label'].unique())\n",
        "print(\"Crops which requires very High Temperature :\",data[data['temperature'] > 40]['label'].unique())\n",
        "print(\"Crops which requires very Low Humidity :\",data[data['humidity'] < 20]['label'].unique())\n",
        "print(\"Crops which requires very Low pH :\",data[data['ph'] < 4]['label'].unique())\n",
        "print(\"Crops which requires very High pH :\",data[data['ph'] > 8]['label'].unique())"
      ],
      "execution_count": 14,
      "outputs": [
        {
          "output_type": "stream",
          "name": "stdout",
          "text": [
            "Crops which requires very High ratio of Nitrogen Content in soil : ['cotton']\n",
            "Crops which requires very High ratio of Phosphorous Content in soil : ['grapes' 'apple']\n",
            "Crops which requires very High ratio of Potassium Content in soil : ['grapes' 'apple']\n",
            "Crops which requires very High Rainfall : ['rice' 'papaya' 'coconut']\n",
            "Crops which requires very Low Rainfall: ['mothbeans' 'mungbean' 'lentil' 'muskmelon']\n",
            "Crops which requires very Low Temperature : ['grapes']\n",
            "Crops which requires very High Temperature : ['grapes' 'papaya']\n",
            "Crops which requires very Low Humidity : ['chickpea' 'kidneybeans']\n",
            "Crops which requires very Low pH : ['mothbeans']\n",
            "Crops which requires very High pH : ['chickpea' 'mothbeans']\n"
          ]
        }
      ]
    },
    {
      "cell_type": "code",
      "metadata": {
        "colab": {
          "base_uri": "https://localhost:8080/"
        },
        "id": "5nvdYAkqh5xO",
        "outputId": "a61a609b-f170-43f9-a073-fb6a721d249a"
      },
      "source": [
        "# By using dataset, Find the best suitable Crop for Summer Season,Winter Season and Rainy Season\n",
        "print(\"Summer Crops\")\n",
        "print(data[(data['temperature'] > 30) & (data['humidity'] > 50)]['label'].unique())\n",
        "print(\"--------------------------------------------------------------------------\")\n",
        "print(\"Winter Crops\")\n",
        "print(data[(data['temperature'] < 20) & (data['humidity'] > 30)]['label'].unique())\n",
        "print(\"--------------------------------------------------------------------------\")\n",
        "print(\"Rainy Crops\")\n",
        "print(data[(data['rainfall'] > 200) & (data['humidity'] > 30)]['label'].unique())"
      ],
      "execution_count": 15,
      "outputs": [
        {
          "output_type": "stream",
          "name": "stdout",
          "text": [
            "Summer Crops\n",
            "['pigeonpeas' 'mothbeans' 'blackgram' 'mango' 'grapes' 'orange' 'papaya']\n",
            "--------------------------------------------------------------------------\n",
            "Winter Crops\n",
            "['maize' 'pigeonpeas' 'lentil' 'pomegranate' 'grapes' 'orange']\n",
            "--------------------------------------------------------------------------\n",
            "Rainy Crops\n",
            "['rice' 'papaya' 'coconut']\n"
          ]
        }
      ]
    },
    {
      "cell_type": "code",
      "metadata": {
        "colab": {
          "base_uri": "https://localhost:8080/"
        },
        "id": "Ko8sJN6LiPzO",
        "outputId": "4d72e28f-28c7-401a-cc5e-172b32bb33f6"
      },
      "source": [
        "#Removing the Labels column \n",
        "x = data.drop(['label'], axis=1)\n",
        "\n",
        "#Selecting all values of data\n",
        "x = x.values\n",
        "\n",
        "#Checking the shape\n",
        "print(x.shape)"
      ],
      "execution_count": 16,
      "outputs": [
        {
          "output_type": "stream",
          "name": "stdout",
          "text": [
            "(2200, 7)\n"
          ]
        }
      ]
    },
    {
      "cell_type": "code",
      "metadata": {
        "colab": {
          "base_uri": "https://localhost:8080/",
          "height": 300
        },
        "id": "Jd5UmkI0icZt",
        "outputId": "e85ec7f4-6e9c-431d-e662-4691aba517a8"
      },
      "source": [
        "#Determining Optimum number of Clusters within Dataset by using K-means Clustering\n",
        "plt.rcParams['figure.figsize'] = (10,4)\n",
        "\n",
        "wcss = []\n",
        "for i in range(1,11):\n",
        "    km = KMeans(n_clusters = i,init = 'k-means++',max_iter = 300, n_init = 10, random_state = 0)\n",
        "    km.fit(x)\n",
        "    wcss.append(km.inertia_)\n",
        "    \n",
        "#Plotting the Results\n",
        "plt.plot(range(1,11),wcss)\n",
        "plt.title('The Elbow Method',fontsize = 20)\n",
        "plt.xlabel('No. of Cluster')\n",
        "plt.ylabel('wcss')\n",
        "plt.show()"
      ],
      "execution_count": 17,
      "outputs": [
        {
          "output_type": "display_data",
          "data": {
            "image/png": "[encoded data removed]",
            "text/plain": [
              "<Figure size 720x288 with 1 Axes>"
            ]
          },
          "metadata": {
            "needs_background": "light"
          }
        }
      ]
    },
    {
      "cell_type": "code",
      "metadata": {
        "colab": {
          "base_uri": "https://localhost:8080/"
        },
        "id": "I6W-MzrXimcP",
        "outputId": "d1f48a16-4945-45e7-cc40-cdfb93cc8524"
      },
      "source": [
        "#Implementing K-means Algorithm to perform Clustering Analysis\n",
        "km = KMeans(n_clusters = 4,init = 'k-means++',max_iter = 300, n_init = 10, random_state = 0)\n",
        "y_means = km.fit_predict(x)\n",
        "\n",
        "#Lets find out results\n",
        "a = data['label']\n",
        "y_means = pd.DataFrame(y_means)\n",
        "z = pd.concat([y_means, a],axis = 1)\n",
        "z = z.rename(columns = {0: 'cluster'})\n",
        "\n",
        "#Checking Clusters of Each crop\n",
        "print(\"Checking results after applying K-means Clustering Analysis \\n\")\n",
        "print(\"Crops in First Cluster:\", z[z['cluster'] == 0]['label'].unique())\n",
        "print(\"---------------------------------------------------------------\")\n",
        "print(\"Crops in Second Cluster:\", z[z['cluster'] == 1]['label'].unique())\n",
        "print(\"---------------------------------------------------------------\")\n",
        "print(\"Crops in Third Cluster:\", z[z['cluster'] == 2]['label'].unique())\n",
        "print(\"---------------------------------------------------------------\")\n",
        "print(\"Crops in Forth Cluster:\", z[z['cluster'] == 3]['label'].unique())"
      ],
      "execution_count": 18,
      "outputs": [
        {
          "output_type": "stream",
          "name": "stdout",
          "text": [
            "Checking results after applying K-means Clustering Analysis \n",
            "\n",
            "Crops in First Cluster: ['maize' 'chickpea' 'kidneybeans' 'pigeonpeas' 'mothbeans' 'mungbean'\n",
            " 'blackgram' 'lentil' 'pomegranate' 'mango' 'orange' 'papaya' 'coconut']\n",
            "---------------------------------------------------------------\n",
            "Crops in Second Cluster: ['grapes' 'apple']\n",
            "---------------------------------------------------------------\n",
            "Crops in Third Cluster: ['maize' 'banana' 'watermelon' 'muskmelon' 'papaya' 'cotton' 'coffee']\n",
            "---------------------------------------------------------------\n",
            "Crops in Forth Cluster: ['rice' 'pigeonpeas' 'papaya' 'coconut' 'jute' 'coffee']\n"
          ]
        }
      ]
    },
    {
      "cell_type": "code",
      "metadata": {
        "colab": {
          "base_uri": "https://localhost:8080/"
        },
        "id": "yowmmCIyiygc",
        "outputId": "1cd2a14d-e418-477d-cdb6-a3594d9870c3"
      },
      "source": [
        "#Splitting dataset for Predictive Modelling\n",
        "y = data['label']\n",
        "x = data.drop(['label'],axis = 1)\n",
        "\n",
        "print(\"Shape of x:\", x.shape)\n",
        "print(\"Shape of y:\", y.shape)"
      ],
      "execution_count": 19,
      "outputs": [
        {
          "output_type": "stream",
          "name": "stdout",
          "text": [
            "Shape of x: (2200, 7)\n",
            "Shape of y: (2200,)\n"
          ]
        }
      ]
    },
    {
      "cell_type": "code",
      "metadata": {
        "colab": {
          "base_uri": "https://localhost:8080/"
        },
        "id": "MvF-i2o0i7x8",
        "outputId": "5ee845ff-b514-44db-ff13-e3e0df0dd16a"
      },
      "source": [
        "#Training and Testing Sets for Validation of Results\n",
        "x_train,x_test,y_train,y_test = train_test_split(x,y,test_size = 0.2,random_state = 0)\n",
        "\n",
        "print(\"The shape of x train:\", x_train.shape)\n",
        "print(\"The shape of x test:\", x_test.shape)\n",
        "print(\"The shape of y train:\", y_train.shape)\n",
        "print(\"The shape of y test:\", y_test.shape)"
      ],
      "execution_count": 20,
      "outputs": [
        {
          "output_type": "stream",
          "name": "stdout",
          "text": [
            "The shape of x train: (1760, 7)\n",
            "The shape of x test: (440, 7)\n",
            "The shape of y train: (1760,)\n",
            "The shape of y test: (440,)\n"
          ]
        }
      ]
    },
    {
      "cell_type": "code",
      "metadata": {
        "id": "Gb6X3xpPjAVi"
      },
      "source": [
        "#Creating a Predictive model\n",
        "model = LogisticRegression(solver='liblinear')\n",
        "model.fit(x_train, y_train)\n",
        "y_pred = model.predict(x_test)"
      ],
      "execution_count": 21,
      "outputs": []
    },
    {
      "cell_type": "code",
      "metadata": {
        "colab": {
          "base_uri": "https://localhost:8080/",
          "height": 609
        },
        "id": "mXmVVp3_jGW0",
        "outputId": "b83a7d74-ab17-4eca-ca32-83261d50974e"
      },
      "source": [
        "#Evaluating Model Performance by using confusion matrix\n",
        "plt.rcParams['figure.figsize'] = [10,10]\n",
        "cm = confusion_matrix(y_test, y_pred)\n",
        "sns.heatmap(cm, annot = True, cmap = 'Wistia')\n",
        "plt.title('Confusion Matrix for Logistic Regression', fontsize=15)\n",
        "plt.show()"
      ],
      "execution_count": 22,
      "outputs": [
        {
          "output_type": "display_data",
          "data": {
            "image/png": "[encoded data removed]",
            "text/plain": [
              "<Figure size 720x720 with 2 Axes>"
            ]
          },
          "metadata": {
            "needs_background": "light"
          }
        }
      ]
    },
    {
      "cell_type": "code",
      "metadata": {
        "colab": {
          "base_uri": "https://localhost:8080/"
        },
        "id": "oTtS49ECjOHK",
        "outputId": "8f94508a-1a44-43eb-c2ee-852d7bb13822"
      },
      "source": [
        "#Printing Classification Report\n",
        "cr = classification_report(y_test, y_pred)\n",
        "print(cr)"
      ],
      "execution_count": 23,
      "outputs": [
        {
          "output_type": "stream",
          "name": "stdout",
          "text": [
            "              precision    recall  f1-score   support\n",
            "\n",
            "       apple       1.00      1.00      1.00        18\n",
            "      banana       1.00      0.94      0.97        18\n",
            "   blackgram       0.88      1.00      0.94        22\n",
            "    chickpea       1.00      1.00      1.00        23\n",
            "     coconut       1.00      1.00      1.00        15\n",
            "      coffee       1.00      1.00      1.00        17\n",
            "      cotton       0.89      1.00      0.94        16\n",
            "      grapes       1.00      1.00      1.00        18\n",
            "        jute       0.86      0.86      0.86        21\n",
            " kidneybeans       0.95      1.00      0.98        20\n",
            "      lentil       1.00      0.88      0.94        17\n",
            "       maize       1.00      0.89      0.94        18\n",
            "       mango       1.00      1.00      1.00        21\n",
            "   mothbeans       1.00      0.84      0.91        25\n",
            "    mungbean       0.94      1.00      0.97        17\n",
            "   muskmelon       1.00      1.00      1.00        23\n",
            "      orange       1.00      1.00      1.00        23\n",
            "      papaya       0.87      0.95      0.91        21\n",
            "  pigeonpeas       0.95      0.95      0.95        22\n",
            " pomegranate       1.00      1.00      1.00        23\n",
            "        rice       0.88      0.88      0.88        25\n",
            "  watermelon       1.00      1.00      1.00        17\n",
            "\n",
            "    accuracy                           0.96       440\n",
            "   macro avg       0.96      0.96      0.96       440\n",
            "weighted avg       0.96      0.96      0.96       440\n",
            "\n"
          ]
        }
      ]
    },
    {
      "cell_type": "code",
      "metadata": {
        "colab": {
          "base_uri": "https://localhost:8080/",
          "height": 206
        },
        "id": "lfxUUWXBjVCS",
        "outputId": "98748628-d9fb-46a5-ba3b-8337cc86550e"
      },
      "source": [
        "# Our model is ready,now we use model to predict Crop name\n",
        "data.head()"
      ],
      "execution_count": 24,
      "outputs": [
        {
          "output_type": "execute_result",
          "data": {
            "text/html": [
              "<div>\n",
              "<style scoped>\n",
              "    .dataframe tbody tr th:only-of-type {\n",
              "        vertical-align: middle;\n",
              "    }\n",
              "\n",
              "    .dataframe tbody tr th {\n",
              "        vertical-align: top;\n",
              "    }\n",
              "\n",
              "    .dataframe thead th {\n",
              "        text-align: right;\n",
              "    }\n",
              "</style>\n",
              "<table border=\"1\" class=\"dataframe\">\n",
              "  <thead>\n",
              "    <tr style=\"text-align: right;\">\n",
              "      <th></th>\n",
              "      <th>N</th>\n",
              "      <th>P</th>\n",
              "      <th>K</th>\n",
              "      <th>temperature</th>\n",
              "      <th>humidity</th>\n",
              "      <th>ph</th>\n",
              "      <th>rainfall</th>\n",
              "      <th>label</th>\n",
              "    </tr>\n",
              "  </thead>\n",
              "  <tbody>\n",
              "    <tr>\n",
              "      <th>0</th>\n",
              "      <td>90</td>\n",
              "      <td>42</td>\n",
              "      <td>43</td>\n",
              "      <td>20.879744</td>\n",
              "      <td>82.002744</td>\n",
              "      <td>6.502985</td>\n",
              "      <td>202.935536</td>\n",
              "      <td>rice</td>\n",
              "    </tr>\n",
              "    <tr>\n",
              "      <th>1</th>\n",
              "      <td>85</td>\n",
              "      <td>58</td>\n",
              "      <td>41</td>\n",
              "      <td>21.770462</td>\n",
              "      <td>80.319644</td>\n",
              "      <td>7.038096</td>\n",
              "      <td>226.655537</td>\n",
              "      <td>rice</td>\n",
              "    </tr>\n",
              "    <tr>\n",
              "      <th>2</th>\n",
              "      <td>60</td>\n",
              "      <td>55</td>\n",
              "      <td>44</td>\n",
              "      <td>23.004459</td>\n",
              "      <td>82.320763</td>\n",
              "      <td>7.840207</td>\n",
              "      <td>263.964248</td>\n",
              "      <td>rice</td>\n",
              "    </tr>\n",
              "    <tr>\n",
              "      <th>3</th>\n",
              "      <td>74</td>\n",
              "      <td>35</td>\n",
              "      <td>40</td>\n",
              "      <td>26.491096</td>\n",
              "      <td>80.158363</td>\n",
              "      <td>6.980401</td>\n",
              "      <td>242.864034</td>\n",
              "      <td>rice</td>\n",
              "    </tr>\n",
              "    <tr>\n",
              "      <th>4</th>\n",
              "      <td>78</td>\n",
              "      <td>42</td>\n",
              "      <td>42</td>\n",
              "      <td>20.130175</td>\n",
              "      <td>81.604873</td>\n",
              "      <td>7.628473</td>\n",
              "      <td>262.717340</td>\n",
              "      <td>rice</td>\n",
              "    </tr>\n",
              "  </tbody>\n",
              "</table>\n",
              "</div>"
            ],
            "text/plain": [
              "    N   P   K  temperature   humidity        ph    rainfall label\n",
              "0  90  42  43    20.879744  82.002744  6.502985  202.935536  rice\n",
              "1  85  58  41    21.770462  80.319644  7.038096  226.655537  rice\n",
              "2  60  55  44    23.004459  82.320763  7.840207  263.964248  rice\n",
              "3  74  35  40    26.491096  80.158363  6.980401  242.864034  rice\n",
              "4  78  42  42    20.130175  81.604873  7.628473  262.717340  rice"
            ]
          },
          "metadata": {},
          "execution_count": 24
        }
      ]
    },
    {
      "cell_type": "code",
      "metadata": {
        "colab": {
          "base_uri": "https://localhost:8080/"
        },
        "id": "SXbfBycPjdyi",
        "outputId": "14c8fb87-251e-4838-e2a6-7965bd282004"
      },
      "source": [
        "prediction = model.predict((np.array([[90,\n",
        "                                       40,\n",
        "                                       40,\n",
        "                                       20,\n",
        "                                       80,\n",
        "                                       7,\n",
        "                                       200]])))\n",
        "print(\"The suggested Crop for Given Climatic condition is :\", prediction)"
      ],
      "execution_count": 25,
      "outputs": [
        {
          "output_type": "stream",
          "name": "stdout",
          "text": [
            "The suggested Crop for Given Climatic condition is : ['rice']\n"
          ]
        }
      ]
    },
    {
      "cell_type": "code",
      "metadata": {
        "colab": {
          "base_uri": "https://localhost:8080/"
        },
        "id": "eA0lqUdBjjZ8",
        "outputId": "24fcaae3-3888-4e0e-d1c2-a1329c08a16f"
      },
      "source": [
        "prediction = model.predict((np.array([[107,\n",
        "                                       34,\n",
        "                                       32,\n",
        "                                       26,\n",
        "                                       66,\n",
        "                                       7,\n",
        "                                       180]])))\n",
        "print(\"The suggested Crop for Given Climatic condition is :\", prediction)"
      ],
      "execution_count": 26,
      "outputs": [
        {
          "output_type": "stream",
          "name": "stdout",
          "text": [
            "The suggested Crop for Given Climatic condition is : ['coffee']\n"
          ]
        }
      ]
    },
    {
      "cell_type": "code",
      "metadata": {
        "id": "exRHfJ7Xjuli"
      },
      "source": [
        ""
      ],
      "execution_count": null,
      "outputs": []
    }
  ]
}